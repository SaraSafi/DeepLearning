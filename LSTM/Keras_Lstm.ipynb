{
 "cells": [
  {
   "cell_type": "code",
   "execution_count": 1,
   "id": "6c86d9eb-1343-4fef-983a-80d30f1058ca",
   "metadata": {
    "tags": []
   },
   "outputs": [
    {
     "name": "stderr",
     "output_type": "stream",
     "text": [
      "2023-04-05 09:46:53.943063: W tensorflow/compiler/xla/stream_executor/platform/default/dso_loader.cc:64] Could not load dynamic library 'libcudart.so.11.0'; dlerror: libcudart.so.11.0: cannot open shared object file: No such file or directory\n",
      "2023-04-05 09:46:53.943104: I tensorflow/compiler/xla/stream_executor/cuda/cudart_stub.cc:29] Ignore above cudart dlerror if you do not have a GPU set up on your machine.\n",
      "2023-04-05 09:47:07.805635: W tensorflow/compiler/xla/stream_executor/platform/default/dso_loader.cc:64] Could not load dynamic library 'libnvinfer.so.7'; dlerror: libnvinfer.so.7: cannot open shared object file: No such file or directory\n",
      "2023-04-05 09:47:07.806254: W tensorflow/compiler/xla/stream_executor/platform/default/dso_loader.cc:64] Could not load dynamic library 'libnvinfer_plugin.so.7'; dlerror: libnvinfer_plugin.so.7: cannot open shared object file: No such file or directory\n",
      "2023-04-05 09:47:07.806301: W tensorflow/compiler/tf2tensorrt/utils/py_utils.cc:38] TF-TRT Warning: Cannot dlopen some TensorRT libraries. If you would like to use Nvidia GPU with TensorRT, please make sure the missing libraries mentioned above are installed properly.\n"
     ]
    }
   ],
   "source": [
    "import numpy as np\n",
    "import pandas as pd\n",
    "from sklearn.preprocessing import StandardScaler,MinMaxScaler\n",
    "from tensorflow.keras import optimizers\n",
    "from tensorflow.keras.models import Sequential\n",
    "from tensorflow.keras.layers import LSTM\n",
    "from tensorflow.keras.layers import Dense\n",
    "from tensorflow.keras.layers import Dropout\n",
    "from tensorflow.keras.layers import BatchNormalization\n",
    "from tensorflow.keras.layers import Flatten\n",
    "import tensorflow as tf\n",
    "import matplotlib.pyplot as plt\n",
    "import seaborn as sns\n",
    "import plotly.express as px"
   ]
  },
  {
   "cell_type": "code",
   "execution_count": 4,
   "id": "b35bce43-e4ac-469e-84ef-af24929df593",
   "metadata": {
    "tags": []
   },
   "outputs": [],
   "source": [
    "def data_prep(lookback, future):\n",
    "    Scaler = MinMaxScaler(feature_range=(0, 1))\n",
    "    df=pd.read_csv('BTC-USD.csv')\n",
    "\n",
    "    date_train=pd.to_datetime(df['Date'])\n",
    "    df_train=df[['Open','High','Low','Close','Adj Close','Volume']]\n",
    "    df_train=df_train.astype(float)\n",
    "    \n",
    "    df_train_scaled=Scaler.fit_transform(df_train)\n",
    "\n",
    "    X, y =[],[]\n",
    "    for i in range(lookback, len(df_train_scaled)-future+1):\n",
    "        X.append(df_train_scaled[i-lookback:i, 0:df_train.shape[1]])\n",
    "        y.append(df_train_scaled[i+future-1:i+future, 0])\n",
    "        \n",
    "    return np.array(X), np.array(y), df_train, date_train"
   ]
  },
  {
   "cell_type": "code",
   "execution_count": 5,
   "id": "9677941b-db10-46ef-9176-dac95b2877c6",
   "metadata": {
    "tags": []
   },
   "outputs": [],
   "source": [
    "Lstm_x, Lstm_y, df_train, date_train = data_prep(5, 1)"
   ]
  },
  {
   "cell_type": "code",
   "execution_count": 6,
   "id": "2815f191-f2d9-4b27-bca6-7472546cc3e2",
   "metadata": {
    "tags": []
   },
   "outputs": [
    {
     "name": "stderr",
     "output_type": "stream",
     "text": [
      "2023-04-05 09:48:36.159007: W tensorflow/compiler/xla/stream_executor/platform/default/dso_loader.cc:64] Could not load dynamic library 'libcuda.so.1'; dlerror: libcuda.so.1: cannot open shared object file: No such file or directory\n",
      "2023-04-05 09:48:36.225452: W tensorflow/compiler/xla/stream_executor/cuda/cuda_driver.cc:265] failed call to cuInit: UNKNOWN ERROR (303)\n",
      "2023-04-05 09:48:36.225930: I tensorflow/compiler/xla/stream_executor/cuda/cuda_diagnostics.cc:156] kernel driver does not appear to be running on this host (sara-HP-1000-Notebook-PC): /proc/driver/nvidia/version does not exist\n"
     ]
    },
    {
     "name": "stdout",
     "output_type": "stream",
     "text": [
      "Epoch 1/10\n",
      "5/5 [==============================] - 9s 290ms/step - loss: 1.6528 - val_loss: 0.0472\n",
      "Epoch 2/10\n",
      "5/5 [==============================] - 0s 32ms/step - loss: 1.1314 - val_loss: 0.0460\n",
      "Epoch 3/10\n",
      "5/5 [==============================] - 0s 34ms/step - loss: 0.7602 - val_loss: 0.0417\n",
      "Epoch 4/10\n",
      "5/5 [==============================] - 0s 27ms/step - loss: 0.6378 - val_loss: 0.0355\n",
      "Epoch 5/10\n",
      "5/5 [==============================] - 0s 36ms/step - loss: 0.5581 - val_loss: 0.0295\n",
      "Epoch 6/10\n",
      "5/5 [==============================] - 0s 31ms/step - loss: 0.4953 - val_loss: 0.0244\n",
      "Epoch 7/10\n",
      "5/5 [==============================] - 0s 33ms/step - loss: 0.4272 - val_loss: 0.0203\n",
      "Epoch 8/10\n",
      "5/5 [==============================] - 0s 34ms/step - loss: 0.3481 - val_loss: 0.0173\n",
      "Epoch 9/10\n",
      "5/5 [==============================] - 0s 56ms/step - loss: 0.3153 - val_loss: 0.0153\n",
      "Epoch 10/10\n",
      "5/5 [==============================] - 0s 30ms/step - loss: 0.2775 - val_loss: 0.0147\n"
     ]
    }
   ],
   "source": [
    "def model(Lstm_x,Lstm_y,df_train,data_train):\n",
    "    model=Sequential()\n",
    "\n",
    "    model.add(LSTM(20,return_sequences=True,input_shape=(Lstm_x.shape[1], Lstm_x.shape[2])))\n",
    "    model.add(Dropout(0.2))\n",
    "    model.add(BatchNormalization())\n",
    "\n",
    "    model.add(Dropout(0.2))\n",
    "    model.add(BatchNormalization())\n",
    "    model.add(Dense(16, activation='relu'))\n",
    "    model.add(Dense(1))\n",
    "\n",
    "    adam = optimizers.Adam(0.001)\n",
    "    model.compile(loss='mean_squared_error',optimizer=adam)\n",
    "\n",
    "    es = tf.keras.callbacks.EarlyStopping(monitor='loss', patience=15, restore_best_weights=True,)\n",
    "    history=model.fit(Lstm_x, Lstm_y,validation_split=0.2,epochs=10,batch_size=64,verbose=1, callbacks=[es])\n",
    "    return history\n",
    "history=model(Lstm_x, Lstm_y, df_train, date_train)"
   ]
  },
  {
   "cell_type": "code",
   "execution_count": 7,
   "id": "13140e5e-9a66-4628-acd2-6cd89a262db7",
   "metadata": {
    "tags": []
   },
   "outputs": [
    {
     "data": {
      "image/png": "[encoded data removed]",
      "text/plain": [
       "<Figure size 640x480 with 1 Axes>"
      ]
     },
     "metadata": {},
     "output_type": "display_data"
    }
   ],
   "source": [
    "def visualize_loss(history, title):\n",
    "    loss = history.history[\"loss\"]\n",
    "    val_loss = history.history[\"val_loss\"]\n",
    "    epochs = range(len(loss))\n",
    "    plt.figure()\n",
    "    plt.plot(epochs, loss, \"b\", label=\"Training loss\")\n",
    "    plt.plot(epochs, val_loss, \"r\", label=\"Validation loss\")\n",
    "    plt.title(title)\n",
    "    plt.xlabel(\"Epochs\")\n",
    "    plt.ylabel(\"Loss\")\n",
    "    plt.legend()\n",
    "    plt.show()\n",
    "\n",
    "\n",
    "visualize_loss(history, \"Training and Validation Loss\")\n"
   ]
  },
  {
   "cell_type": "code",
   "execution_count": null,
   "id": "964c9708-93c0-4cee-a9d5-70eb8f3bcb2a",
   "metadata": {},
   "outputs": [],
   "source": []
  }
 ],
 "metadata": {
  "kernelspec": {
   "display_name": "Python 3 (ipykernel)",
   "language": "python",
   "name": "python3"
  },
  "language_info": {
   "codemirror_mode": {
    "name": "ipython",
    "version": 3
   },
   "file_extension": ".py",
   "mimetype": "text/x-python",
   "name": "python",
   "nbconvert_exporter": "python",
   "pygments_lexer": "ipython3",
   "version": "3.10.6"
  }
 },
 "nbformat": 4,
 "nbformat_minor": 5
}
