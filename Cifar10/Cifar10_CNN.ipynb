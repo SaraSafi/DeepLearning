{
 "cells": [
  {
   "cell_type": "code",
   "execution_count": 38,
   "metadata": {
    "colab": {
     "base_uri": "https://localhost:8080/"
    },
    "id": "zNAjQ-GB2swn",
    "outputId": "b430e350-a5bb-4c77-8154-7cf1e6187b93"
   },
   "outputs": [
    {
     "name": "stderr",
     "output_type": "stream",
     "text": [
      "/usr/local/lib/python3.9/dist-packages/keras/optimizers/optimizer_v2/gradient_descent.py:114: UserWarning: The `lr` argument is deprecated, use `learning_rate` instead.\n",
      "  super().__init__(name, **kwargs)\n"
     ]
    },
    {
     "name": "stdout",
     "output_type": "stream",
     "text": [
      "Epoch 1/50\n",
      "782/782 [==============================] - 7s 8ms/step - loss: 2.0257 - accuracy: 0.2786\n",
      "Epoch 2/50\n",
      "782/782 [==============================] - 6s 8ms/step - loss: 1.7698 - accuracy: 0.3746\n",
      "Epoch 3/50\n",
      "782/782 [==============================] - 6s 8ms/step - loss: 1.6447 - accuracy: 0.4160\n",
      "Epoch 4/50\n",
      "782/782 [==============================] - 6s 7ms/step - loss: 1.5628 - accuracy: 0.4457\n",
      "Epoch 5/50\n",
      "782/782 [==============================] - 6s 8ms/step - loss: 1.5008 - accuracy: 0.4672\n",
      "Epoch 6/50\n",
      "782/782 [==============================] - 5s 7ms/step - loss: 1.4493 - accuracy: 0.4855\n",
      "Epoch 7/50\n",
      "782/782 [==============================] - 6s 8ms/step - loss: 1.4103 - accuracy: 0.5012\n",
      "Epoch 8/50\n",
      "782/782 [==============================] - 5s 7ms/step - loss: 1.3685 - accuracy: 0.5157\n",
      "Epoch 9/50\n",
      "782/782 [==============================] - 6s 8ms/step - loss: 1.3345 - accuracy: 0.5293\n",
      "Epoch 10/50\n",
      "782/782 [==============================] - 6s 7ms/step - loss: 1.3061 - accuracy: 0.5399\n",
      "Epoch 11/50\n",
      "782/782 [==============================] - 6s 8ms/step - loss: 1.2703 - accuracy: 0.5527\n",
      "Epoch 12/50\n",
      "782/782 [==============================] - 6s 7ms/step - loss: 1.2465 - accuracy: 0.5615\n",
      "Epoch 13/50\n",
      "782/782 [==============================] - 6s 8ms/step - loss: 1.2196 - accuracy: 0.5709\n",
      "Epoch 14/50\n",
      "782/782 [==============================] - 6s 7ms/step - loss: 1.1910 - accuracy: 0.5806\n",
      "Epoch 15/50\n",
      "782/782 [==============================] - 6s 8ms/step - loss: 1.1701 - accuracy: 0.5888\n",
      "Epoch 16/50\n",
      "782/782 [==============================] - 6s 7ms/step - loss: 1.1485 - accuracy: 0.5968\n",
      "Epoch 17/50\n",
      "782/782 [==============================] - 6s 8ms/step - loss: 1.1274 - accuracy: 0.6056\n",
      "Epoch 18/50\n",
      "782/782 [==============================] - 6s 7ms/step - loss: 1.1104 - accuracy: 0.6111\n",
      "Epoch 19/50\n",
      "782/782 [==============================] - 6s 7ms/step - loss: 1.0913 - accuracy: 0.6179\n",
      "Epoch 20/50\n",
      "782/782 [==============================] - 6s 7ms/step - loss: 1.0737 - accuracy: 0.6245\n",
      "Epoch 21/50\n",
      "782/782 [==============================] - 6s 7ms/step - loss: 1.0569 - accuracy: 0.6305\n",
      "Epoch 22/50\n",
      "782/782 [==============================] - 6s 8ms/step - loss: 1.0408 - accuracy: 0.6380\n",
      "Epoch 23/50\n",
      "782/782 [==============================] - 6s 8ms/step - loss: 1.0220 - accuracy: 0.6437\n",
      "Epoch 24/50\n",
      "782/782 [==============================] - 6s 8ms/step - loss: 1.0084 - accuracy: 0.6474\n",
      "Epoch 25/50\n",
      "782/782 [==============================] - 6s 7ms/step - loss: 0.9929 - accuracy: 0.6548\n",
      "Epoch 26/50\n",
      "782/782 [==============================] - 6s 8ms/step - loss: 0.9770 - accuracy: 0.6601\n",
      "Epoch 27/50\n",
      "782/782 [==============================] - 6s 7ms/step - loss: 0.9611 - accuracy: 0.6651\n",
      "Epoch 28/50\n",
      "782/782 [==============================] - 6s 8ms/step - loss: 0.9501 - accuracy: 0.6696\n",
      "Epoch 29/50\n",
      "782/782 [==============================] - 6s 7ms/step - loss: 0.9331 - accuracy: 0.6765\n",
      "Epoch 30/50\n",
      "782/782 [==============================] - 6s 8ms/step - loss: 0.9208 - accuracy: 0.6814\n",
      "Epoch 31/50\n",
      "782/782 [==============================] - 6s 7ms/step - loss: 0.9075 - accuracy: 0.6866\n",
      "Epoch 32/50\n",
      "782/782 [==============================] - 6s 8ms/step - loss: 0.8939 - accuracy: 0.6925\n",
      "Epoch 33/50\n",
      "782/782 [==============================] - 6s 8ms/step - loss: 0.8843 - accuracy: 0.6941\n",
      "Epoch 34/50\n",
      "782/782 [==============================] - 6s 8ms/step - loss: 0.8686 - accuracy: 0.7004\n",
      "Epoch 35/50\n",
      "782/782 [==============================] - 6s 7ms/step - loss: 0.8577 - accuracy: 0.7042\n",
      "Epoch 36/50\n",
      "782/782 [==============================] - 6s 8ms/step - loss: 0.8455 - accuracy: 0.7073\n",
      "Epoch 37/50\n",
      "782/782 [==============================] - 6s 7ms/step - loss: 0.8315 - accuracy: 0.7144\n",
      "Epoch 38/50\n",
      "782/782 [==============================] - 6s 7ms/step - loss: 0.8239 - accuracy: 0.7178\n",
      "Epoch 39/50\n",
      "782/782 [==============================] - 6s 7ms/step - loss: 0.8072 - accuracy: 0.7211\n",
      "Epoch 40/50\n",
      "782/782 [==============================] - 6s 7ms/step - loss: 0.7988 - accuracy: 0.7249\n",
      "Epoch 41/50\n",
      "782/782 [==============================] - 6s 8ms/step - loss: 0.7883 - accuracy: 0.7287\n",
      "Epoch 42/50\n",
      "782/782 [==============================] - 6s 7ms/step - loss: 0.7771 - accuracy: 0.7329\n",
      "Epoch 43/50\n",
      "782/782 [==============================] - 6s 8ms/step - loss: 0.7702 - accuracy: 0.7335\n",
      "Epoch 44/50\n",
      "782/782 [==============================] - 6s 7ms/step - loss: 0.7565 - accuracy: 0.7404\n",
      "Epoch 45/50\n",
      "782/782 [==============================] - 6s 8ms/step - loss: 0.7459 - accuracy: 0.7424\n",
      "Epoch 46/50\n",
      "782/782 [==============================] - 6s 7ms/step - loss: 0.7382 - accuracy: 0.7457\n",
      "Epoch 47/50\n",
      "782/782 [==============================] - 6s 8ms/step - loss: 0.7266 - accuracy: 0.7498\n",
      "Epoch 48/50\n",
      "782/782 [==============================] - 6s 7ms/step - loss: 0.7148 - accuracy: 0.7542\n",
      "Epoch 49/50\n",
      "782/782 [==============================] - 6s 8ms/step - loss: 0.7062 - accuracy: 0.7575\n",
      "Epoch 50/50\n",
      "782/782 [==============================] - 6s 7ms/step - loss: 0.6951 - accuracy: 0.7615\n",
      "313/313 [==============================] - 1s 3ms/step\n",
      "Model roc_auc_score: 0.9436001388888888\n"
     ]
    },
    {
     "data": {
      "text/plain": [
       "<keras.callbacks.History at 0x7f101491b7f0>"
      ]
     },
     "execution_count": 38,
     "metadata": {},
     "output_type": "execute_result"
    }
   ],
   "source": [
    "from keras.datasets import cifar10\n",
    "from keras.utils import to_categorical\n",
    "from keras.models import Sequential\n",
    "from keras.layers import Conv2D\n",
    "from keras.layers import MaxPooling2D\n",
    "from keras.layers import Dense\n",
    "from keras.layers import Flatten\n",
    "from keras.optimizers import SGD\n",
    "from sklearn.metrics import roc_auc_score\n",
    "\n",
    "# load train and test dataset\n",
    "def load_dataset():\n",
    "            # load dataset\n",
    "            (x_train, y_train), (x_test, y_test) = cifar10.load_data()\n",
    "            # one hot encode target values\n",
    "            y_train = to_categorical(y_train)\n",
    "            y_test = to_categorical(y_test)\n",
    "            return x_train, y_train, x_test, y_test\n",
    "\n",
    "# scale pixels\n",
    "def prep_images(train, test):\n",
    "            # convert from integers to floats\n",
    "            train_norm = train.astype('float32')\n",
    "            test_norm = test.astype('float32')\n",
    "            # normalize to range 0-1\n",
    "            train_norm = train_norm / 255.0\n",
    "            test_norm = test_norm / 255.0\n",
    "            # return normalized images\n",
    "            return train_norm, test_norm\n",
    "\n",
    "# define cnn model\n",
    "def define_model():\n",
    "            model = Sequential()\n",
    "            model.add(Conv2D(32, (3, 3), activation='relu', padding='same', input_shape=(32, 32, 3)))\n",
    "            model.add(Conv2D(32, (3, 3), activation='relu', padding='same'))\n",
    "            model.add(MaxPooling2D((2, 2)))\n",
    "            model.add(Conv2D(64, (3, 3), activation='relu', padding='same'))\n",
    "            model.add(Conv2D(64, (3, 3), activation='relu', padding='same'))\n",
    "            model.add(MaxPooling2D((2, 2)))\n",
    "            model.add(Conv2D(128, (3, 3), activation='relu', padding='same'))\n",
    "            model.add(Conv2D(128, (3, 3), activation='relu', padding='same'))\n",
    "            model.add(MaxPooling2D((2, 2)))\n",
    "            model.add(Flatten())\n",
    "            model.add(Dense(128, activation='relu'))\n",
    "            model.add(Dense(10, activation='softmax'))\n",
    "\t\n",
    "\treturn model\n",
    "\n",
    "# run the test harness for evaluating a model\n",
    "def final():\n",
    "\t\t\tx_train, y_train,x_test, y_test = load_dataset()\n",
    "\t\t\t# prepare pixel data\n",
    "\t\t\tx_train, x_test= prep_images(x_train, x_test)\n",
    "\t\t\t# define model\n",
    "\t\t\tmodel = define_model()\n",
    "\t\t\t# fit model\n",
    "\t\t\topt = SGD(lr=0.001)\n",
    "\t\t\tmodel.compile(optimizer=opt, loss='categorical_crossentropy', metrics=['accuracy'])\n",
    "\t\t\thistory=model.fit(x_train, y_train, epochs=50, batch_size=64, verbose=1)\n",
    "            # save model\n",
    "\t\t\tmodel.save('final_model.h5')\n",
    "\t\t\ty_predict = model.predict(x_test)\n",
    "\t\t\tauc_score1 = roc_auc_score(y_test, y_predict)\n",
    "\t\t\tprint('Model roc_auc_score:', auc_score1)\n",
    "\t\t\treturn history\n",
    "\n",
    "\t\t\n",
    "final()"
   ]
  },
  {
   "cell_type": "markdown",
   "metadata": {
    "id": "Fp6_oahUG8Li"
   },
   "source": [
    "#### Test below image with model"
   ]
  },
  {
   "cell_type": "code",
   "execution_count": 42,
   "metadata": {
    "colab": {
     "base_uri": "https://localhost:8080/",
     "height": 269
    },
    "id": "MsVl2dvcGRxn",
    "outputId": "22843c0f-7a79-429a-d0bf-b30b6bd81528"
   },
   "outputs": [
    {
     "data": {
      "image/png": "[encoded data removed]",
      "text/plain": [
       "<Figure size 432x288 with 1 Axes>"
      ]
     },
     "metadata": {
      "needs_background": "light"
     },
     "output_type": "display_data"
    }
   ],
   "source": [
    "from matplotlib import pyplot as plt\n",
    "from matplotlib import image as mpimg\n",
    " \n",
    "image = mpimg.imread(\"1.png\")\n",
    "plt.imshow(image)\n",
    "plt.show()"
   ]
  },
  {
   "cell_type": "code",
   "execution_count": 39,
   "metadata": {
    "colab": {
     "base_uri": "https://localhost:8080/"
    },
    "id": "uPkuf1NPu3d6",
    "outputId": "fd31a1a4-678a-433e-b8ad-b4026174e2ce"
   },
   "outputs": [
    {
     "name": "stdout",
     "output_type": "stream",
     "text": [
      "1/1 [==============================] - 0s 92ms/step\n",
      "The class of image: 4\n"
     ]
    }
   ],
   "source": [
    "# make a prediction for image.\n",
    "from tensorflow.keras.preprocessing.image import load_img\n",
    "from tensorflow.keras.preprocessing.image import img_to_array\n",
    "from keras.models import load_model\n",
    "\n",
    "# load and prepare the image\n",
    "def load_image(filename):\n",
    "            # load the image\n",
    "            img = load_img(filename, target_size=(32, 32))\n",
    "            # convert to array\n",
    "            img = img_to_array(img)\n",
    "            # reshape into a single sample with 3 channels\n",
    "            img = img.reshape(1, 32, 32, 3)\n",
    "            # prepare pixel data\n",
    "            img = img.astype('float32')\n",
    "            img = img / 255.0\n",
    "            return img\n",
    "\n",
    "# load an image and predict the class\n",
    "def run_example():\n",
    "            # load the image\n",
    "            img = load_image('1.png')\n",
    "            # load model\n",
    "            model = load_model('final_model.h5')\n",
    "            # predict the class\n",
    "            result = model.predict(img)\n",
    "            result = result.argmax(axis=1)\n",
    "            print('The class of image:',result[0])\n",
    "\n",
    "# entry point, run the example\n",
    "run_example()"
   ]
  }
 ],
 "metadata": {
  "accelerator": "GPU",
  "colab": {
   "provenance": []
  },
  "gpuClass": "standard",
  "kernelspec": {
   "display_name": "Python 3 (ipykernel)",
   "language": "python",
   "name": "python3"
  },
  "language_info": {
   "codemirror_mode": {
    "name": "ipython",
    "version": 3
   },
   "file_extension": ".py",
   "mimetype": "text/x-python",
   "name": "python",
   "nbconvert_exporter": "python",
   "pygments_lexer": "ipython3",
   "version": "3.10.6"
  }
 },
 "nbformat": 4,
 "nbformat_minor": 4
}
